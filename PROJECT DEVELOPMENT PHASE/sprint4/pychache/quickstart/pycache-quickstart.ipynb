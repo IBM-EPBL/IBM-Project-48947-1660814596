U
    �nc2  �                   @   s�   d dl mZ d dlZd dlmZ d dlmZ d dlm	Z	 d dl
mZ d dlmZ d dl
mZ d dlmZ d dlZd dlmZ d d	lmZ d d
lmZ d dlmZ d dlZd dlZdd� Zde�d�kr�e�  ed� dg fdd�ZdS )�    )�print_functionN)�Request)�Credentials)�InstalledAppFlow)�build)�	HttpError)�encoders)�MIMEMultipart)�MIMEText)�MIMEBasec                     s   dg� � fdd�} | �  d S )N�https://mail.google.com/c               
      s  d} t j�d�rt�d� �} | r&| js�| rD| jrD| jrD| �t	� � nt
�d� �}|jdd�} tdd��}|�| �� � W 5 Q R X zftdd| d	�}|�� �� jd
d��� }|�dg �}|s�td� W dS td� |D ]}t|d � q�W n2 tk
�r } ztd|� �� W 5 d}~X Y nX dS )zSShows basic usage of the Gmail API.
        Lists the user's Gmail labels.
        N�
token.jsonzcredentials.jsonr   )�port�w�gmail�v1��credentials�me)�userId�labelszNo labels found.zLabels:�namezAn error occurred: )�os�path�existsr   �from_authorized_user_file�valid�expired�refresh_token�refreshr   r   Zfrom_client_secrets_fileZrun_local_server�open�write�to_jsonr   �usersr   �list�execute�get�printr   )�creds�flow�token�service�resultsr   �label�error��SCOPES� �rc:\Users\Vaikunth Guruswamy\Downloads\IBM-Project-3252-1658509040\Project Development Phase\Sprint-3\quickstart.py�main   s2    
 �zverification.<locals>.mainr1   )r3   r1   r/   r2   �verification   s    )r4   r   �.z!user verified. token is existing �plainc              
   C   s  d }dg}t t�� � t�d|�}tdd|d�}|}t� }	| |	d< ||	d< |	�t||�� |D ]�}
t	�
|
�\}}|�dd	�\}}tj�|
�}t|
d
��8}t||�}|�|�� � |jd|
|d� t�|� W 5 Q R X |	�|� q^t�|	�� ��� }|�� �� jdd|id��� }|S )Nr   r   r   r   r   �to�subject�/�   �rbzContent-Disposition)�filenamer   �raw)r   �body)r'   r   �getcwdr   r   r   r	   �attachr
   �	mimetypes�
guess_type�splitr   �basenamer    r   �set_payload�read�
add_headerr   �encode_base64�base64�urlsafe_b64encode�as_bytes�decoder#   �messages�sendr%   )r7   r8   r>   �format�attachmentsr(   r0   r+   Zfile_attachmentsZmimeMessage�
attachment�content_type�encodingZ	main_type�sub_type�	file_name�f�myFile�
raw_string�messager1   r1   r2   �	send_mailH   s4    
�
rZ   )�
__future__r   �os.pathr   Zgoogle.auth.transport.requestsr   Zgoogle.oauth2.credentialsr   Zgoogle_auth_oauthlib.flowr   Zgoogleapiclient.discoveryr   �googleapiclient.errorsr   rI   �emailr   �email.mime.multipartr	   Zemail.mime.textr
   �email.mime.baser   rA   r4   �listdirr'   rZ   r1   r1   r1   r2   �<module>   s(   /