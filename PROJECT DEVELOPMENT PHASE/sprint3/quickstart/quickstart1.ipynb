from flask import Flask, app, request, render_template
import base64
import datetime
import os
import flask
import re
import flask_login
import base64
from PIL import Image
from io import BytesIO
import datetime

import cv2
import flask
import flask_login
import numpy as np
from tensorflow.keras.models import load_model

from cloudant.client import Cloudant
from cloudant.error import CloudantException
from cloudant.result import Result, ResultByKey

from flask import Flask, app, render_template, request
from PIL import Image
from tensorflow.keras.models import load_model

#os.chdir('Project Development Phase\Sprint-3')
model1 = load_model('Model/level.h5')
@@ -142,12 +143,14 @@ def index():
    else:
        return flask.redirect(flask.url_for('login'))

from quickstart import send_mail
@app.route('/register',methods = ['GET','POST'])
def register():
    data = database_retrieval()
    if(flask.request.method == 'GET'):
        return render_template('register.html')
    email = flask.request.form['email']

    if(email in data):
        return render_template('register.html',flash_message='True')
    else:
@@ -157,6 +160,7 @@ def register():
        user.id = email
        user.name = flask.request.form['name']
        flask_login.login_user(user)
        send_mail(email,"Thanks for registering","thank you")
        return render_template('dashboard.html',flash_message='True')


 116  
Project Development Phase/Sprint-3/quickstart.py
@@ -0,0 +1,116 @@
from __future__ import print_function

import os.path

from google.auth.transport.requests import Request
from google.oauth2.credentials import Credentials
from google_auth_oauthlib.flow import InstalledAppFlow
from googleapiclient.discovery import build
from googleapiclient.errors import HttpError

from googleapiclient.discovery import build
from google.oauth2.credentials import Credentials
import base64

from email import encoders
from email.mime.multipart import MIMEMultipart
from email.mime.text import MIMEText
from email.mime.base import MIMEBase
import mimetypes

import os
def verification():
# If modifying these scopes, delete the file token.json.
    SCOPES = ['https://mail.google.com/']


    def main():
        """Shows basic usage of the Gmail API.
        Lists the user's Gmail labels.
        """
        creds = None
        # The file token.json stores the user's access and refresh tokens, and is
        # created automatically when the authorization flow completes for the first
        # time.
        if os.path.exists('token.json'):
            creds = Credentials.from_authorized_user_file('token.json', SCOPES)
        # If there are no (valid) credentials available, let the user log in.
        if not creds or not creds.valid:
            if creds and creds.expired and creds.refresh_token:
                creds.refresh(Request())
            else:
                flow = InstalledAppFlow.from_client_secrets_file(
                    'credentials.json', SCOPES)
                creds = flow.run_local_server(port=0)
            # Save the credentials for the next run
            with open('token.json', 'w') as token:
                token.write(creds.to_json())

        try:
            # Call the Gmail API
            service = build('gmail', 'v1', credentials=creds)
            results = service.users().labels().list(userId='me').execute()
            labels = results.get('labels', [])

            if not labels:
                print('No labels found.')
                return
            print('Labels:')
            for label in labels:
                print(label['name'])

        except HttpError as error:
            # TODO(developer) - Handle errors from gmail API.
            print(f'An error occurred: {error}')



    main()
if(not 'token.json' in os.listdir('.')):
    verification()
print('user verified. token is existing ')
def send_mail(to, subject, body, format='plain', attachments=[]):
    creds = None
    SCOPES = ['https://mail.google.com/']
    print(os.getcwd())
    creds = Credentials.from_authorized_user_file('token.json', SCOPES)
    service = build('gmail', 'v1', credentials=creds)

    file_attachments = attachments

    #html = ''
    #with open('message.html') as msg:
    #    html += msg.read()

    #create email
    mimeMessage = MIMEMultipart()
    mimeMessage['to'] = to
    mimeMessage['subject'] = subject
    #mimeMessage.attach(MIMEText(html,'html'))
    mimeMessage.attach(MIMEText(body, format))

    for attachment in file_attachments:
        content_type, encoding = mimetypes.guess_type(attachment)
        main_type, sub_type = content_type.split('/', 1)
        file_name = os.path.basename(attachment)

        with open(attachment, 'rb') as f:
            myFile = MIMEBase(main_type, sub_type)
            myFile.set_payload(f.read())
            myFile.add_header('Content-Disposition', attachment, filename=file_name)
            encoders.encode_base64(myFile)

        mimeMessage.attach(myFile)


    raw_string = base64.urlsafe_b64encode(mimeMessage.as_bytes()).decode()


    message = service.users().messages().send(
        userId='me',
        body={'raw': raw_string}).execute()

    return message


#send_mail('','hi kk','it\'s nice meeting you :)')
 9  
Project Development Phase/Sprint-3/requirements.txt
@@ -1,2 +1,7 @@
pip install Flask
pip install flask_login
flask_login
numpy
opencv-python
tensorflow
cloudant
pillow
flask_login